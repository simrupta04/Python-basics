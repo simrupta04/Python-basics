{
 "cells": [
  {
   "cell_type": "markdown",
   "id": "cdf488a5",
   "metadata": {},
   "source": [
    "### Strings and Character Data in Python\n",
    "\n",
    "String are objects that contain sequences of character data. Processing character data is integral to programming. Python provides a rich set of operators, functions, and methods for working with strings. In this module, we'll discuss the below topics.\n",
    "\n",
    "1. Using operators with strings\n",
    "2. Accessing and extracting portions of strings\n",
    "3. Use built-in Python functions with characters and strings\n",
    "4. Use methods to manipulate and modify string data\n",
    "\n",
    "#### String Manipulation\n",
    "1. String Operators\n",
    "2. Built-In String Functions\n",
    "    * Case Conversion (upper, lower, title, capitalize)\n",
    "    * Find and Replace (find, index) \n",
    "    * dir and __doc__\n",
    "3. String Indexing & Slicing\n",
    "    * name[1]\n",
    "\n",
    "### Working with python list\n",
    "List is Python’s most versatile, useful data types. You’ll find list in virtually every Python program. we'll cover the important characteristics of lists and we’ll learn how to define them and how to manipulate them.\n",
    "\n",
    "1. Lists Overview\n",
    "2. Indexing and Slicing\n",
    "3. Nesting\n",
    "4. List Methods\n",
    "    * Inserting item to a given position\n",
    "    * Appending value to a list\n",
    "    * Removing elements from a list\n",
    "    * Extending a list and merging with other list\n",
    "    * Counting instances of an elements in a list\n",
    "    * index - Finding index of something in the list\n",
    "    * Sorting a list\n",
    "    * Reversing a list\n",
    "    \n",
    "### Working with dictionary in python\n",
    "We’ll cover the basic characteristics of Python dictionaries and learn how to access and manage dictionary data. O\n",
    "1. Dictionaries and lists share the following characteristics:\n",
    "    * Both are mutable.\n",
    "    * Both are dynamic. They can grow and shrink as needed.\n",
    "    * Both can be nested. A list can contain another list. A dictionary can contain another dictionary. A dictionary can also contain a list, and vice versa.\n",
    "\n",
    "4. Dictionary Methods\n",
    "    * Get all keys from a dictionary - keys\n",
    "    * Get all values from a dictionary - values\n",
    "    * To Access data from a dictionary for a key - get\n",
    "    * Update a dictionary - update\n",
    "    * Deleting data from the dictionary\n",
    "    * Deleting all the key values from a dictionary - clear\n",
    "    \n",
    "### Conditional Statements in Python (if/elif/else)\n",
    "We’ll learn how to work with conditional (“if”) statements in Python. if-statements help us implement complex decision making in your programs.\n",
    "\n",
    "1. \"if\", \"else\" and \"elif\" Clauses\n",
    "2. One-Line \"if\" Statements\n",
    "3. Conditional Expressions\n",
    "4. The \"pass\" Statement"
   ]
  },
  {
   "cell_type": "code",
   "execution_count": 114,
   "id": "1226db47",
   "metadata": {},
   "outputs": [],
   "source": [
    "name = \"Naveen\""
   ]
  },
  {
   "cell_type": "code",
   "execution_count": 115,
   "id": "d610f5fe",
   "metadata": {},
   "outputs": [],
   "source": [
    "list1 = [1,2,3]"
   ]
  },
  {
   "cell_type": "code",
   "execution_count": 116,
   "id": "ea96b4df",
   "metadata": {},
   "outputs": [
    {
     "data": {
      "text/plain": [
       "[1, 2, 3]"
      ]
     },
     "execution_count": 116,
     "metadata": {},
     "output_type": "execute_result"
    }
   ],
   "source": [
    "list1"
   ]
  },
  {
   "cell_type": "code",
   "execution_count": 89,
   "id": "d29364d6",
   "metadata": {},
   "outputs": [],
   "source": [
    "list1.append(4)"
   ]
  },
  {
   "cell_type": "code",
   "execution_count": 91,
   "id": "93b0d733",
   "metadata": {},
   "outputs": [],
   "source": [
    "list2 = [4,5,6]"
   ]
  },
  {
   "cell_type": "code",
   "execution_count": 92,
   "id": "0395f205",
   "metadata": {},
   "outputs": [],
   "source": [
    "list1.extend(list2)"
   ]
  },
  {
   "cell_type": "code",
   "execution_count": 93,
   "id": "fa9d3f3e",
   "metadata": {},
   "outputs": [
    {
     "data": {
      "text/plain": [
       "[1, 2, 3, 4, 4, 5, 6]"
      ]
     },
     "execution_count": 93,
     "metadata": {},
     "output_type": "execute_result"
    }
   ],
   "source": [
    "list1"
   ]
  },
  {
   "cell_type": "code",
   "execution_count": 94,
   "id": "7a52d021",
   "metadata": {},
   "outputs": [],
   "source": [
    "dict_1 = {\"name\": \"Naveen\", \"city\": \"Delhi\"}"
   ]
  },
  {
   "cell_type": "code",
   "execution_count": 95,
   "id": "7e650f17",
   "metadata": {},
   "outputs": [
    {
     "data": {
      "text/plain": [
       "dict"
      ]
     },
     "execution_count": 95,
     "metadata": {},
     "output_type": "execute_result"
    }
   ],
   "source": [
    "type(dict_1)"
   ]
  },
  {
   "cell_type": "code",
   "execution_count": 96,
   "id": "7c0b7bf9",
   "metadata": {
    "collapsed": true
   },
   "outputs": [
    {
     "data": {
      "text/plain": [
       "['__class__',\n",
       " '__class_getitem__',\n",
       " '__contains__',\n",
       " '__delattr__',\n",
       " '__delitem__',\n",
       " '__dir__',\n",
       " '__doc__',\n",
       " '__eq__',\n",
       " '__format__',\n",
       " '__ge__',\n",
       " '__getattribute__',\n",
       " '__getitem__',\n",
       " '__gt__',\n",
       " '__hash__',\n",
       " '__init__',\n",
       " '__init_subclass__',\n",
       " '__ior__',\n",
       " '__iter__',\n",
       " '__le__',\n",
       " '__len__',\n",
       " '__lt__',\n",
       " '__ne__',\n",
       " '__new__',\n",
       " '__or__',\n",
       " '__reduce__',\n",
       " '__reduce_ex__',\n",
       " '__repr__',\n",
       " '__reversed__',\n",
       " '__ror__',\n",
       " '__setattr__',\n",
       " '__setitem__',\n",
       " '__sizeof__',\n",
       " '__str__',\n",
       " '__subclasshook__',\n",
       " 'clear',\n",
       " 'copy',\n",
       " 'fromkeys',\n",
       " 'get',\n",
       " 'items',\n",
       " 'keys',\n",
       " 'pop',\n",
       " 'popitem',\n",
       " 'setdefault',\n",
       " 'update',\n",
       " 'values']"
      ]
     },
     "execution_count": 96,
     "metadata": {},
     "output_type": "execute_result"
    }
   ],
   "source": [
    "dir(dict_1)"
   ]
  },
  {
   "cell_type": "code",
   "execution_count": 97,
   "id": "40a7c56d",
   "metadata": {},
   "outputs": [
    {
     "data": {
      "text/plain": [
       "'Naveen'"
      ]
     },
     "execution_count": 97,
     "metadata": {},
     "output_type": "execute_result"
    }
   ],
   "source": [
    "dict_1.get(\"name\")"
   ]
  },
  {
   "cell_type": "code",
   "execution_count": 98,
   "id": "1c6a3dcf",
   "metadata": {},
   "outputs": [
    {
     "name": "stdout",
     "output_type": "stream",
     "text": [
      "{'name': 'Naveen', 'city': 'Delhi'}\n"
     ]
    }
   ],
   "source": [
    "print(dict_1)"
   ]
  },
  {
   "cell_type": "code",
   "execution_count": 99,
   "id": "88d524b1",
   "metadata": {},
   "outputs": [],
   "source": [
    "dict_1.update({\"city\": \"Noida\"})"
   ]
  },
  {
   "cell_type": "code",
   "execution_count": 100,
   "id": "4033930c",
   "metadata": {},
   "outputs": [
    {
     "name": "stdout",
     "output_type": "stream",
     "text": [
      "{'name': 'Naveen', 'city': 'Noida'}\n"
     ]
    }
   ],
   "source": [
    "print(dict_1)"
   ]
  },
  {
   "cell_type": "code",
   "execution_count": 101,
   "id": "23e9b629",
   "metadata": {},
   "outputs": [],
   "source": [
    "del dict_1['name']"
   ]
  },
  {
   "cell_type": "code",
   "execution_count": 102,
   "id": "02278e47",
   "metadata": {},
   "outputs": [
    {
     "name": "stdout",
     "output_type": "stream",
     "text": [
      "{'city': 'Noida'}\n"
     ]
    }
   ],
   "source": [
    "print(dict_1)"
   ]
  },
  {
   "cell_type": "code",
   "execution_count": null,
   "id": "e47ad77e",
   "metadata": {},
   "outputs": [],
   "source": [
    "todo_list = [\n",
    "    \"complete python study\", \n",
    "    \"complete python test\",\n",
    "    \"get the certificate\"\n",
    "]"
   ]
  },
  {
   "cell_type": "code",
   "execution_count": 106,
   "id": "b7e68570",
   "metadata": {},
   "outputs": [],
   "source": [
    "todo_list = [\n",
    "    {\"task\": \"complete python study\", \"deadline\": \"2022-10-10\"},\n",
    "    {\"task\":\"complete python test\", \"deadline\": \"2022-10-10\"},\n",
    "    {\"task\":\"get the certificate\", \"deadline\": \"2022-10-10\"}\n",
    "]"
   ]
  },
  {
   "cell_type": "code",
   "execution_count": 107,
   "id": "c171274a",
   "metadata": {},
   "outputs": [
    {
     "name": "stdout",
     "output_type": "stream",
     "text": [
      "[{'task': 'complete python study', 'deadline': '2022-10-10'}, {'task': 'complete python test', 'deadline': '2022-10-10'}, {'task': 'get the certificate', 'deadline': '2022-10-10'}]\n"
     ]
    }
   ],
   "source": [
    "print(todo_list)"
   ]
  },
  {
   "cell_type": "code",
   "execution_count": 108,
   "id": "6c0bcd2f",
   "metadata": {},
   "outputs": [],
   "source": [
    "user = {\n",
    "    \"name\": \"Naveen\",\n",
    "    \"courses\": [\"python\", \"javascript\"]\n",
    "}"
   ]
  },
  {
   "cell_type": "code",
   "execution_count": 109,
   "id": "9d8bc290",
   "metadata": {},
   "outputs": [
    {
     "name": "stdout",
     "output_type": "stream",
     "text": [
      "{'name': 'Naveen', 'courses': ['python', 'javascript']}\n"
     ]
    }
   ],
   "source": [
    "print(user)"
   ]
  },
  {
   "cell_type": "code",
   "execution_count": 110,
   "id": "69c27f8a",
   "metadata": {},
   "outputs": [
    {
     "data": {
      "text/plain": [
       "dict_keys(['name', 'courses'])"
      ]
     },
     "execution_count": 110,
     "metadata": {},
     "output_type": "execute_result"
    }
   ],
   "source": [
    "user.keys()"
   ]
  },
  {
   "cell_type": "code",
   "execution_count": 111,
   "id": "31c91831",
   "metadata": {},
   "outputs": [
    {
     "data": {
      "text/plain": [
       "dict_values(['Naveen', ['python', 'javascript']])"
      ]
     },
     "execution_count": 111,
     "metadata": {},
     "output_type": "execute_result"
    }
   ],
   "source": [
    "user.values()"
   ]
  },
  {
   "cell_type": "code",
   "execution_count": 112,
   "id": "ecb376ce",
   "metadata": {},
   "outputs": [],
   "source": [
    "def hello():\n",
    "    \"\"\"\n",
    "    this function will print hello world\n",
    "    \"\"\"\n",
    "    return \"hello world\"\n",
    "\n",
    "\n",
    "function_list = [hello]"
   ]
  },
  {
   "cell_type": "code",
   "execution_count": 113,
   "id": "0c0069b7",
   "metadata": {},
   "outputs": [
    {
     "data": {
      "text/plain": [
       "[<function __main__.hello()>]"
      ]
     },
     "execution_count": 113,
     "metadata": {},
     "output_type": "execute_result"
    }
   ],
   "source": [
    "function_list"
   ]
  },
  {
   "cell_type": "code",
   "execution_count": 115,
   "id": "afff4f6d",
   "metadata": {},
   "outputs": [],
   "source": [
    "func_dict = {\n",
    "    \"function_name\": \"hello world\",\n",
    "    \"function\": hello\n",
    "}"
   ]
  },
  {
   "cell_type": "code",
   "execution_count": null,
   "id": "95f45f6b",
   "metadata": {},
   "outputs": [],
   "source": []
  },
  {
   "cell_type": "code",
   "execution_count": 125,
   "id": "6f57093f",
   "metadata": {},
   "outputs": [],
   "source": [
    "num1 = 10\n",
    "num2 = 20"
   ]
  },
  {
   "cell_type": "code",
   "execution_count": 130,
   "id": "4aa180fa",
   "metadata": {},
   "outputs": [
    {
     "name": "stdout",
     "output_type": "stream",
     "text": [
      "Not same\n"
     ]
    }
   ],
   "source": [
    "if num1 == num2:\n",
    "    print(\"Same\")\n",
    "    print(\"something else\")\n",
    "else:\n",
    "    print(\"Not same\")"
   ]
  },
  {
   "cell_type": "code",
   "execution_count": 131,
   "id": "a259f3d3",
   "metadata": {},
   "outputs": [],
   "source": [
    "res = \"Same\" if num1 == num2 else \"Not same\""
   ]
  },
  {
   "cell_type": "code",
   "execution_count": 129,
   "id": "837cd484",
   "metadata": {},
   "outputs": [
    {
     "name": "stdout",
     "output_type": "stream",
     "text": [
      "Not same\n"
     ]
    }
   ],
   "source": [
    "print(res)"
   ]
  },
  {
   "cell_type": "code",
   "execution_count": 134,
   "id": "00918647",
   "metadata": {},
   "outputs": [],
   "source": [
    "result = num1 >= num2"
   ]
  },
  {
   "cell_type": "code",
   "execution_count": 139,
   "id": "5f73b3c5",
   "metadata": {},
   "outputs": [],
   "source": [
    "name = \"naveen\""
   ]
  },
  {
   "cell_type": "code",
   "execution_count": 141,
   "id": "4efe69b0",
   "metadata": {},
   "outputs": [
    {
     "data": {
      "text/plain": [
       "'Return a capitalized version of the string.\\n\\nMore specifically, make the first character have upper case and the rest lower\\ncase.'"
      ]
     },
     "execution_count": 141,
     "metadata": {},
     "output_type": "execute_result"
    }
   ],
   "source": []
  },
  {
   "cell_type": "code",
   "execution_count": null,
   "id": "70c2b3bd",
   "metadata": {},
   "outputs": [],
   "source": []
  },
  {
   "cell_type": "code",
   "execution_count": null,
   "id": "6c2233c4",
   "metadata": {},
   "outputs": [],
   "source": []
  },
  {
   "cell_type": "markdown",
   "id": "6d25fc4c",
   "metadata": {},
   "source": [
    "**Q: Create a variable name assign your name to that variable**\n",
    "</br>\n",
    "**Check what is the type of the variable and what are the public method available on that variable**\n",
    "</br>\n",
    "**Practice all the methods and write a brief summary on each of them in your words**"
   ]
  },
  {
   "cell_type": "code",
   "execution_count": 2,
   "id": "2f76e00d",
   "metadata": {},
   "outputs": [],
   "source": [
    "name = \"simran\""
   ]
  },
  {
   "cell_type": "code",
   "execution_count": 142,
   "id": "42279bda",
   "metadata": {
    "collapsed": true
   },
   "outputs": [
    {
     "data": {
      "text/plain": [
       "['__add__',\n",
       " '__class__',\n",
       " '__contains__',\n",
       " '__delattr__',\n",
       " '__dir__',\n",
       " '__doc__',\n",
       " '__eq__',\n",
       " '__format__',\n",
       " '__ge__',\n",
       " '__getattribute__',\n",
       " '__getitem__',\n",
       " '__getnewargs__',\n",
       " '__gt__',\n",
       " '__hash__',\n",
       " '__init__',\n",
       " '__init_subclass__',\n",
       " '__iter__',\n",
       " '__le__',\n",
       " '__len__',\n",
       " '__lt__',\n",
       " '__mod__',\n",
       " '__mul__',\n",
       " '__ne__',\n",
       " '__new__',\n",
       " '__reduce__',\n",
       " '__reduce_ex__',\n",
       " '__repr__',\n",
       " '__rmod__',\n",
       " '__rmul__',\n",
       " '__setattr__',\n",
       " '__sizeof__',\n",
       " '__str__',\n",
       " '__subclasshook__',\n",
       " 'capitalize',\n",
       " 'casefold',\n",
       " 'center',\n",
       " 'count',\n",
       " 'encode',\n",
       " 'endswith',\n",
       " 'expandtabs',\n",
       " 'find',\n",
       " 'format',\n",
       " 'format_map',\n",
       " 'index',\n",
       " 'isalnum',\n",
       " 'isalpha',\n",
       " 'isascii',\n",
       " 'isdecimal',\n",
       " 'isdigit',\n",
       " 'isidentifier',\n",
       " 'islower',\n",
       " 'isnumeric',\n",
       " 'isprintable',\n",
       " 'isspace',\n",
       " 'istitle',\n",
       " 'isupper',\n",
       " 'join',\n",
       " 'ljust',\n",
       " 'lower',\n",
       " 'lstrip',\n",
       " 'maketrans',\n",
       " 'partition',\n",
       " 'removeprefix',\n",
       " 'removesuffix',\n",
       " 'replace',\n",
       " 'rfind',\n",
       " 'rindex',\n",
       " 'rjust',\n",
       " 'rpartition',\n",
       " 'rsplit',\n",
       " 'rstrip',\n",
       " 'split',\n",
       " 'splitlines',\n",
       " 'startswith',\n",
       " 'strip',\n",
       " 'swapcase',\n",
       " 'title',\n",
       " 'translate',\n",
       " 'upper',\n",
       " 'zfill']"
      ]
     },
     "execution_count": 142,
     "metadata": {},
     "output_type": "execute_result"
    }
   ],
   "source": [
    "dir(name)"
   ]
  },
  {
   "cell_type": "code",
   "execution_count": 64,
   "id": "d4c93fd9",
   "metadata": {},
   "outputs": [
    {
     "data": {
      "text/plain": [
       "'Simran'"
      ]
     },
     "execution_count": 64,
     "metadata": {},
     "output_type": "execute_result"
    }
   ],
   "source": [
    "\"\"\"\n",
    "    To make the 1st char of the string in Upper case\n",
    "\"\"\"\n",
    "name.capitalize()"
   ]
  },
  {
   "cell_type": "code",
   "execution_count": 65,
   "id": "0a283526",
   "metadata": {},
   "outputs": [
    {
     "data": {
      "text/plain": [
       "'simran'"
      ]
     },
     "execution_count": 65,
     "metadata": {},
     "output_type": "execute_result"
    }
   ],
   "source": [
    "'''\n",
    "    To make the string in lower case\n",
    "'''\n",
    "name.casefold()"
   ]
  },
  {
   "cell_type": "code",
   "execution_count": 67,
   "id": "07191a3b",
   "metadata": {},
   "outputs": [
    {
     "data": {
      "text/plain": [
       "'            simran            '"
      ]
     },
     "execution_count": 67,
     "metadata": {},
     "output_type": "execute_result"
    }
   ],
   "source": [
    "'''\n",
    "    It's return a centered string\n",
    "'''\n",
    "name.center(30)"
   ]
  },
  {
   "cell_type": "code",
   "execution_count": 70,
   "id": "08d98d4b",
   "metadata": {},
   "outputs": [
    {
     "data": {
      "text/plain": [
       "1"
      ]
     },
     "execution_count": 70,
     "metadata": {},
     "output_type": "execute_result"
    }
   ],
   "source": [
    "'''\n",
    "    it's return the number of times of specified value occurs in a string\n",
    "'''\n",
    "name.count(\"m\")"
   ]
  },
  {
   "cell_type": "code",
   "execution_count": 71,
   "id": "400dc676",
   "metadata": {},
   "outputs": [
    {
     "data": {
      "text/plain": [
       "b'simran'"
      ]
     },
     "execution_count": 71,
     "metadata": {},
     "output_type": "execute_result"
    }
   ],
   "source": [
    "'''\n",
    "    this method is used for encodes the string\n",
    "'''\n",
    "name.encode()"
   ]
  },
  {
   "cell_type": "code",
   "execution_count": 4,
   "id": "49c7b601",
   "metadata": {},
   "outputs": [
    {
     "data": {
      "text/plain": [
       "False"
      ]
     },
     "execution_count": 4,
     "metadata": {},
     "output_type": "execute_result"
    }
   ],
   "source": [
    "'''\n",
    "    it's check the string ends with the specified value or not then, it's Returns true or valse in o/p\n",
    "'''\n",
    "name.endswith(\"m\")"
   ]
  },
  {
   "cell_type": "code",
   "execution_count": 5,
   "id": "563553d9",
   "metadata": {},
   "outputs": [
    {
     "data": {
      "text/plain": [
       "2"
      ]
     },
     "execution_count": 5,
     "metadata": {},
     "output_type": "execute_result"
    }
   ],
   "source": [
    "'''\n",
    "    it's returns the position of specified value where it was found in string.\n",
    "'''\n",
    "name.find(\"m\")"
   ]
  },
  {
   "cell_type": "code",
   "execution_count": 6,
   "id": "ec9030b4",
   "metadata": {},
   "outputs": [
    {
     "data": {
      "text/plain": [
       "'simran'"
      ]
     },
     "execution_count": 6,
     "metadata": {},
     "output_type": "execute_result"
    }
   ],
   "source": [
    "'''\n",
    "    Formats values in a string\n",
    "'''\n",
    "name.format_map(\"m\")"
   ]
  },
  {
   "cell_type": "code",
   "execution_count": 81,
   "id": "adf28abc",
   "metadata": {},
   "outputs": [
    {
     "data": {
      "text/plain": [
       "2"
      ]
     },
     "execution_count": 81,
     "metadata": {},
     "output_type": "execute_result"
    }
   ],
   "source": [
    "'''\n",
    "     Searches the string for a specified value and returns the position of where it was found\n",
    "'''\n",
    "name.index(\"m\")"
   ]
  },
  {
   "cell_type": "code",
   "execution_count": 82,
   "id": "2bf68e75",
   "metadata": {},
   "outputs": [
    {
     "data": {
      "text/plain": [
       "False"
      ]
     },
     "execution_count": 82,
     "metadata": {},
     "output_type": "execute_result"
    }
   ],
   "source": [
    "'''\n",
    "    Returns True if all characters in the string are alphanumeric\n",
    "'''\n",
    "name.isalnum()"
   ]
  },
  {
   "cell_type": "code",
   "execution_count": 85,
   "id": "9d1bb925",
   "metadata": {},
   "outputs": [
    {
     "data": {
      "text/plain": [
       "True"
      ]
     },
     "execution_count": 85,
     "metadata": {},
     "output_type": "execute_result"
    }
   ],
   "source": [
    "'''\n",
    "    Checks the String is Alphabetic.\n",
    "'''\n",
    "name.isalpha()"
   ]
  },
  {
   "cell_type": "code",
   "execution_count": 86,
   "id": "d77ee9a3",
   "metadata": {},
   "outputs": [
    {
     "data": {
      "text/plain": [
       "True"
      ]
     },
     "execution_count": 86,
     "metadata": {},
     "output_type": "execute_result"
    }
   ],
   "source": [
    "'''\n",
    "   checks the string is Ascii \n",
    "'''\n",
    "name.isascii()"
   ]
  },
  {
   "cell_type": "code",
   "execution_count": 87,
   "id": "65c588fb",
   "metadata": {},
   "outputs": [
    {
     "data": {
      "text/plain": [
       "False"
      ]
     },
     "execution_count": 87,
     "metadata": {},
     "output_type": "execute_result"
    }
   ],
   "source": [
    "'''\n",
    "    checks the string is decimal\n",
    "'''\n",
    "name.isdecimal()"
   ]
  },
  {
   "cell_type": "code",
   "execution_count": 88,
   "id": "06827fcd",
   "metadata": {},
   "outputs": [
    {
     "data": {
      "text/plain": [
       "False"
      ]
     },
     "execution_count": 88,
     "metadata": {},
     "output_type": "execute_result"
    }
   ],
   "source": [
    "'''\n",
    "    checks the string id digit\n",
    "'''\n",
    "name.isdigit()"
   ]
  },
  {
   "cell_type": "code",
   "execution_count": 89,
   "id": "72dbe0ce",
   "metadata": {},
   "outputs": [
    {
     "data": {
      "text/plain": [
       "True"
      ]
     },
     "execution_count": 89,
     "metadata": {},
     "output_type": "execute_result"
    }
   ],
   "source": [
    "# checks the string is identifier\n",
    "name.isidentifier()"
   ]
  },
  {
   "cell_type": "code",
   "execution_count": 90,
   "id": "6ccb8447",
   "metadata": {},
   "outputs": [
    {
     "data": {
      "text/plain": [
       "True"
      ]
     },
     "execution_count": 90,
     "metadata": {},
     "output_type": "execute_result"
    }
   ],
   "source": [
    "# checks the string is in lower case\n",
    "name.islower()"
   ]
  },
  {
   "cell_type": "code",
   "execution_count": 91,
   "id": "e6ea3aa3",
   "metadata": {},
   "outputs": [
    {
     "data": {
      "text/plain": [
       "False"
      ]
     },
     "execution_count": 91,
     "metadata": {},
     "output_type": "execute_result"
    }
   ],
   "source": [
    "# checks the string is numeric\n",
    "name.isnumeric()"
   ]
  },
  {
   "cell_type": "code",
   "execution_count": 92,
   "id": "a6f70f06",
   "metadata": {},
   "outputs": [
    {
     "data": {
      "text/plain": [
       "True"
      ]
     },
     "execution_count": 92,
     "metadata": {},
     "output_type": "execute_result"
    }
   ],
   "source": [
    "# checks the string is printable\n",
    "name.isprintable()"
   ]
  },
  {
   "cell_type": "code",
   "execution_count": 93,
   "id": "51c3ff46",
   "metadata": {},
   "outputs": [
    {
     "data": {
      "text/plain": [
       "False"
      ]
     },
     "execution_count": 93,
     "metadata": {},
     "output_type": "execute_result"
    }
   ],
   "source": [
    "# checks the string is whitespace\n",
    "name.isspace()"
   ]
  },
  {
   "cell_type": "code",
   "execution_count": 94,
   "id": "9e05d3c9",
   "metadata": {},
   "outputs": [
    {
     "data": {
      "text/plain": [
       "False"
      ]
     },
     "execution_count": 94,
     "metadata": {},
     "output_type": "execute_result"
    }
   ],
   "source": [
    "# checks the string is title\n",
    "name.istitle()"
   ]
  },
  {
   "cell_type": "code",
   "execution_count": 95,
   "id": "789aa08d",
   "metadata": {},
   "outputs": [
    {
     "data": {
      "text/plain": [
       "False"
      ]
     },
     "execution_count": 95,
     "metadata": {},
     "output_type": "execute_result"
    }
   ],
   "source": [
    "# checks the string is in upper case\n",
    "name.isupper()"
   ]
  },
  {
   "cell_type": "code",
   "execution_count": 100,
   "id": "29e66e45",
   "metadata": {},
   "outputs": [
    {
     "data": {
      "text/plain": [
       "'simran                                                                                                                     '"
      ]
     },
     "execution_count": 100,
     "metadata": {},
     "output_type": "execute_result"
    }
   ],
   "source": [
    "#Returns a left justified version of the string\n",
    "name.ljust(123)"
   ]
  },
  {
   "cell_type": "code",
   "execution_count": 101,
   "id": "1c489237",
   "metadata": {},
   "outputs": [
    {
     "data": {
      "text/plain": [
       "'simran'"
      ]
     },
     "execution_count": 101,
     "metadata": {},
     "output_type": "execute_result"
    }
   ],
   "source": [
    "#convert in lowercase \n",
    "name.lower()"
   ]
  },
  {
   "cell_type": "code",
   "execution_count": 102,
   "id": "91098023",
   "metadata": {},
   "outputs": [
    {
     "data": {
      "text/plain": [
       "'simran'"
      ]
     },
     "execution_count": 102,
     "metadata": {},
     "output_type": "execute_result"
    }
   ],
   "source": [
    "#it's returns a left trim of the string\n",
    "name.lstrip()"
   ]
  },
  {
   "cell_type": "code",
   "execution_count": 103,
   "id": "2e3dde9e",
   "metadata": {},
   "outputs": [
    {
     "data": {
      "text/plain": [
       "'SIMRAN'"
      ]
     },
     "execution_count": 103,
     "metadata": {},
     "output_type": "execute_result"
    }
   ],
   "source": [
    "#convert in swapcase\n",
    "name.swapcase()"
   ]
  },
  {
   "cell_type": "code",
   "execution_count": 104,
   "id": "227edc87",
   "metadata": {},
   "outputs": [
    {
     "data": {
      "text/plain": [
       "'Simran'"
      ]
     },
     "execution_count": 104,
     "metadata": {},
     "output_type": "execute_result"
    }
   ],
   "source": [
    "#convert in title\n",
    "name.title()"
   ]
  },
  {
   "cell_type": "code",
   "execution_count": 105,
   "id": "9e792804",
   "metadata": {},
   "outputs": [
    {
     "data": {
      "text/plain": [
       "'SIMRAN'"
      ]
     },
     "execution_count": 105,
     "metadata": {},
     "output_type": "execute_result"
    }
   ],
   "source": [
    "#convert in upeercase\n",
    "name.upper()"
   ]
  },
  {
   "cell_type": "code",
   "execution_count": 108,
   "id": "56baa4eb",
   "metadata": {},
   "outputs": [
    {
     "data": {
      "text/plain": [
       "'simran'"
      ]
     },
     "execution_count": 108,
     "metadata": {},
     "output_type": "execute_result"
    }
   ],
   "source": [
    "#convert in translate string\n",
    "name.translate(\"s\")"
   ]
  },
  {
   "cell_type": "code",
   "execution_count": 111,
   "id": "ce35dd58",
   "metadata": {},
   "outputs": [
    {
     "data": {
      "text/plain": [
       "['simran']"
      ]
     },
     "execution_count": 111,
     "metadata": {},
     "output_type": "execute_result"
    }
   ],
   "source": [
    "#split the string into a list\n",
    "name.split()"
   ]
  },
  {
   "cell_type": "code",
   "execution_count": 113,
   "id": "ef225200",
   "metadata": {},
   "outputs": [
    {
     "data": {
      "text/plain": [
       "'simr@n'"
      ]
     },
     "execution_count": 113,
     "metadata": {},
     "output_type": "execute_result"
    }
   ],
   "source": [
    "#replace the specified value\n",
    "name.replace(\"a\",\"@\")"
   ]
  },
  {
   "cell_type": "markdown",
   "id": "8055df42",
   "metadata": {},
   "source": [
    "**Q: Create a list \"todo_list\" and add some todo items in the list**\n",
    "</br>\n",
    "**Check what is the type of the variable and what are the public method available on that variable**\n",
    "</br>\n",
    "**Practice all the methods and write a brief summary on each of them in your words**"
   ]
  },
  {
   "cell_type": "code",
   "execution_count": 5,
   "id": "a23d9047",
   "metadata": {},
   "outputs": [],
   "source": [
    "todo_list = [\n",
    "    \"python\", \n",
    "    \"variable\",\n",
    "    \"string\", \n",
    "    23,\n",
    "    True\n",
    "]"
   ]
  },
  {
   "cell_type": "code",
   "execution_count": null,
   "id": "b920a1b6",
   "metadata": {},
   "outputs": [],
   "source": [
    "#for append the value to list\n",
    "todo_list.append(\"simran\")"
   ]
  },
  {
   "cell_type": "code",
   "execution_count": 6,
   "id": "90493923",
   "metadata": {},
   "outputs": [
    {
     "data": {
      "text/plain": [
       "list"
      ]
     },
     "execution_count": 6,
     "metadata": {},
     "output_type": "execute_result"
    }
   ],
   "source": [
    "#to find the type of var\n",
    "type(todo_list)"
   ]
  },
  {
   "cell_type": "code",
   "execution_count": 7,
   "id": "eb3d8a2a",
   "metadata": {},
   "outputs": [
    {
     "data": {
      "text/plain": [
       "['__add__',\n",
       " '__class__',\n",
       " '__class_getitem__',\n",
       " '__contains__',\n",
       " '__delattr__',\n",
       " '__delitem__',\n",
       " '__dir__',\n",
       " '__doc__',\n",
       " '__eq__',\n",
       " '__format__',\n",
       " '__ge__',\n",
       " '__getattribute__',\n",
       " '__getitem__',\n",
       " '__gt__',\n",
       " '__hash__',\n",
       " '__iadd__',\n",
       " '__imul__',\n",
       " '__init__',\n",
       " '__init_subclass__',\n",
       " '__iter__',\n",
       " '__le__',\n",
       " '__len__',\n",
       " '__lt__',\n",
       " '__mul__',\n",
       " '__ne__',\n",
       " '__new__',\n",
       " '__reduce__',\n",
       " '__reduce_ex__',\n",
       " '__repr__',\n",
       " '__reversed__',\n",
       " '__rmul__',\n",
       " '__setattr__',\n",
       " '__setitem__',\n",
       " '__sizeof__',\n",
       " '__str__',\n",
       " '__subclasshook__',\n",
       " 'append',\n",
       " 'clear',\n",
       " 'copy',\n",
       " 'count',\n",
       " 'extend',\n",
       " 'index',\n",
       " 'insert',\n",
       " 'pop',\n",
       " 'remove',\n",
       " 'reverse',\n",
       " 'sort']"
      ]
     },
     "execution_count": 7,
     "metadata": {},
     "output_type": "execute_result"
    }
   ],
   "source": [
    "#to find the directry of var\n",
    "dir(todo_list)"
   ]
  },
  {
   "cell_type": "code",
   "execution_count": 15,
   "id": "9f80866d",
   "metadata": {},
   "outputs": [
    {
     "name": "stdout",
     "output_type": "stream",
     "text": [
      "[]\n"
     ]
    }
   ],
   "source": [
    "#for clear the data of var\n",
    "list1=[1, 2, 3, 4, 5]\n",
    "list1.clear()"
   ]
  },
  {
   "cell_type": "code",
   "execution_count": 20,
   "id": "6e0e7042",
   "metadata": {},
   "outputs": [
    {
     "data": {
      "text/plain": [
       "['python',\n",
       " 'variable',\n",
       " 'string',\n",
       " 23,\n",
       " True,\n",
       " 'simran',\n",
       " 'python',\n",
       " 'variable',\n",
       " 'string',\n",
       " 23,\n",
       " True,\n",
       " 'simran']"
      ]
     },
     "execution_count": 20,
     "metadata": {},
     "output_type": "execute_result"
    }
   ],
   "source": [
    "#copy the list \n",
    "list1.copy()"
   ]
  },
  {
   "cell_type": "code",
   "execution_count": 19,
   "id": "af2efba8",
   "metadata": {},
   "outputs": [
    {
     "name": "stdout",
     "output_type": "stream",
     "text": [
      "['python', 'variable', 'string', 23, True, 'simran', 'python', 'variable', 'string', 23, True, 'simran']\n"
     ]
    }
   ],
   "source": [
    "#for extend the list\n",
    "list1.extend(todo_list)\n",
    "print(list1)"
   ]
  },
  {
   "cell_type": "code",
   "execution_count": 22,
   "id": "c1c4f5a0",
   "metadata": {},
   "outputs": [
    {
     "data": {
      "text/plain": [
       "2"
      ]
     },
     "execution_count": 22,
     "metadata": {},
     "output_type": "execute_result"
    }
   ],
   "source": [
    "#count the specified value in list\n",
    "list1.count(\"variable\")"
   ]
  },
  {
   "cell_type": "code",
   "execution_count": 24,
   "id": "dd385cb7",
   "metadata": {},
   "outputs": [
    {
     "data": {
      "text/plain": [
       "3"
      ]
     },
     "execution_count": 24,
     "metadata": {},
     "output_type": "execute_result"
    }
   ],
   "source": [
    "#Searches a specified value and returns the position of where it was found\n",
    "list1.index(23)"
   ]
  },
  {
   "cell_type": "code",
   "execution_count": 27,
   "id": "66dcdeaf",
   "metadata": {},
   "outputs": [
    {
     "name": "stdout",
     "output_type": "stream",
     "text": [
      "['python', 'variable', 'string', 23, 20, 20, True, 'simran', 'python', 'variable', 'string', 23, True, 'simran']\n"
     ]
    }
   ],
   "source": [
    "# insert the value at mentioned index\n",
    "list1.insert(4, 20)\n",
    "print(list1)"
   ]
  },
  {
   "cell_type": "code",
   "execution_count": 29,
   "id": "4396d068",
   "metadata": {},
   "outputs": [
    {
     "data": {
      "text/plain": [
       "20"
      ]
     },
     "execution_count": 29,
     "metadata": {},
     "output_type": "execute_result"
    }
   ],
   "source": [
    "#pop the value at mentioned index\n",
    "list1.pop(4)"
   ]
  },
  {
   "cell_type": "code",
   "execution_count": 31,
   "id": "074158bc",
   "metadata": {},
   "outputs": [],
   "source": [
    "#remove the specified value from the list\n",
    "list1.remove(\"variable\")"
   ]
  },
  {
   "cell_type": "code",
   "execution_count": 32,
   "id": "0a29eafc",
   "metadata": {},
   "outputs": [
    {
     "name": "stdout",
     "output_type": "stream",
     "text": [
      "['simran', True, 23, 'string', 'variable', 'python', 'simran', True, 20, 23, 'string', 'python']\n"
     ]
    }
   ],
   "source": [
    "#reverse the list\n",
    "list1.reverse()\n",
    "print(list1)"
   ]
  },
  {
   "cell_type": "code",
   "execution_count": 35,
   "id": "158e64bd",
   "metadata": {},
   "outputs": [
    {
     "name": "stdout",
     "output_type": "stream",
     "text": [
      "[1, 2, 3, 4, 5, 20, 24]\n"
     ]
    }
   ],
   "source": [
    "#sort the list\n",
    "list2=[1,2,3,24,20,4,5]\n",
    "list2.sort()\n",
    "print(list2)"
   ]
  },
  {
   "cell_type": "markdown",
   "id": "67fd8a5e",
   "metadata": {},
   "source": [
    "**Q: Create a dictionary \"user\" and add name, city key value pair in the dictionary**\n",
    "</br>\n",
    "**Check what is the type of the variable  user and what are the public method available on that variable**\n",
    "</br>\n",
    "**Practice all the methods and write a brief summary on each of them in your words**"
   ]
  },
  {
   "cell_type": "code",
   "execution_count": 8,
   "id": "5f9b02e8",
   "metadata": {},
   "outputs": [],
   "source": [
    "user={\n",
    "    \"simran\":\"aurangabad\",\n",
    "    \"diksha\":\"bhilwara\",\n",
    "    \"niru\":\"puri\",\n",
    "    \"lopa\":\"katak\",\n",
    "    \"deepak\":\"kota\"\n",
    "}"
   ]
  },
  {
   "cell_type": "code",
   "execution_count": 9,
   "id": "9195df40",
   "metadata": {},
   "outputs": [
    {
     "data": {
      "text/plain": [
       "dict"
      ]
     },
     "execution_count": 9,
     "metadata": {},
     "output_type": "execute_result"
    }
   ],
   "source": [
    "#find the type of var\n",
    "type(user)"
   ]
  },
  {
   "cell_type": "code",
   "execution_count": 38,
   "id": "bac55350",
   "metadata": {},
   "outputs": [
    {
     "data": {
      "text/plain": [
       "['__class__',\n",
       " '__class_getitem__',\n",
       " '__contains__',\n",
       " '__delattr__',\n",
       " '__delitem__',\n",
       " '__dir__',\n",
       " '__doc__',\n",
       " '__eq__',\n",
       " '__format__',\n",
       " '__ge__',\n",
       " '__getattribute__',\n",
       " '__getitem__',\n",
       " '__gt__',\n",
       " '__hash__',\n",
       " '__init__',\n",
       " '__init_subclass__',\n",
       " '__ior__',\n",
       " '__iter__',\n",
       " '__le__',\n",
       " '__len__',\n",
       " '__lt__',\n",
       " '__ne__',\n",
       " '__new__',\n",
       " '__or__',\n",
       " '__reduce__',\n",
       " '__reduce_ex__',\n",
       " '__repr__',\n",
       " '__reversed__',\n",
       " '__ror__',\n",
       " '__setattr__',\n",
       " '__setitem__',\n",
       " '__sizeof__',\n",
       " '__str__',\n",
       " '__subclasshook__',\n",
       " 'clear',\n",
       " 'copy',\n",
       " 'fromkeys',\n",
       " 'get',\n",
       " 'items',\n",
       " 'keys',\n",
       " 'pop',\n",
       " 'popitem',\n",
       " 'setdefault',\n",
       " 'update',\n",
       " 'values']"
      ]
     },
     "execution_count": 38,
     "metadata": {},
     "output_type": "execute_result"
    }
   ],
   "source": [
    "#find the directry of var\n",
    "dir(user)"
   ]
  },
  {
   "cell_type": "code",
   "execution_count": 52,
   "id": "461389e7",
   "metadata": {},
   "outputs": [
    {
     "data": {
      "text/plain": [
       "{'l': None, 'o': None, 'p': None, 'a': None}"
      ]
     },
     "execution_count": 52,
     "metadata": {},
     "output_type": "execute_result"
    }
   ],
   "source": [
    "#Returns a dictionary with the specified keys and value\n",
    "user.fromkeys(\"lopa\")"
   ]
  },
  {
   "cell_type": "code",
   "execution_count": 44,
   "id": "4c9d1d7a",
   "metadata": {},
   "outputs": [
    {
     "data": {
      "text/plain": [
       "'katak'"
      ]
     },
     "execution_count": 44,
     "metadata": {},
     "output_type": "execute_result"
    }
   ],
   "source": [
    "# returns the value of key\n",
    "user.get(\"lopa\")"
   ]
  },
  {
   "cell_type": "code",
   "execution_count": 46,
   "id": "e71cae7f",
   "metadata": {},
   "outputs": [
    {
     "data": {
      "text/plain": [
       "'katak'"
      ]
     },
     "execution_count": 46,
     "metadata": {},
     "output_type": "execute_result"
    }
   ],
   "source": [
    "#Returns the value of the specified key\n",
    "user.setdefault(\"lopa\")"
   ]
  },
  {
   "cell_type": "code",
   "execution_count": 53,
   "id": "f752b787",
   "metadata": {},
   "outputs": [],
   "source": [
    "#update the dict\n",
    "user1={\"kajal\":\"koderma\"}\n",
    "user.update(user1)"
   ]
  },
  {
   "cell_type": "code",
   "execution_count": 55,
   "id": "15e3a1ff",
   "metadata": {},
   "outputs": [
    {
     "data": {
      "text/plain": [
       "dict_values(['aurangabad', 'bhilwara', 'puri', 'katak', 'kota', 'koderma'])"
      ]
     },
     "execution_count": 55,
     "metadata": {},
     "output_type": "execute_result"
    }
   ],
   "source": [
    "#print the all values of dict\n",
    "user.values()"
   ]
  },
  {
   "cell_type": "code",
   "execution_count": 56,
   "id": "b72f61b5",
   "metadata": {},
   "outputs": [
    {
     "data": {
      "text/plain": [
       "dict_items([('simran', 'aurangabad'), ('diksha', 'bhilwara'), ('niru', 'puri'), ('lopa', 'katak'), ('deepak', 'kota'), ('kajal', 'koderma')])"
      ]
     },
     "execution_count": 56,
     "metadata": {},
     "output_type": "execute_result"
    }
   ],
   "source": [
    "#print the all items\n",
    "user.items()"
   ]
  },
  {
   "cell_type": "code",
   "execution_count": 59,
   "id": "85874e34",
   "metadata": {},
   "outputs": [
    {
     "data": {
      "text/plain": [
       "'kota'"
      ]
     },
     "execution_count": 59,
     "metadata": {},
     "output_type": "execute_result"
    }
   ],
   "source": [
    "#pop the specified key and value\n",
    "user.pop(\"deepak\")"
   ]
  },
  {
   "cell_type": "code",
   "execution_count": 60,
   "id": "134a4acd",
   "metadata": {},
   "outputs": [
    {
     "data": {
      "text/plain": [
       "{'simran': 'aurangabad',\n",
       " 'diksha': 'bhilwara',\n",
       " 'niru': 'puri',\n",
       " 'lopa': 'katak',\n",
       " 'kajal': 'koderma'}"
      ]
     },
     "execution_count": 60,
     "metadata": {},
     "output_type": "execute_result"
    }
   ],
   "source": [
    "#to make a copy\n",
    "user.copy()"
   ]
  },
  {
   "cell_type": "code",
   "execution_count": 61,
   "id": "eab41540",
   "metadata": {},
   "outputs": [
    {
     "data": {
      "text/plain": [
       "dict_keys(['simran', 'diksha', 'niru', 'lopa', 'kajal'])"
      ]
     },
     "execution_count": 61,
     "metadata": {},
     "output_type": "execute_result"
    }
   ],
   "source": [
    "#print the all keys of dict\n",
    "user.keys()"
   ]
  },
  {
   "cell_type": "code",
   "execution_count": 62,
   "id": "61932be4",
   "metadata": {},
   "outputs": [],
   "source": [
    "#clear the all keys and values of dict\n",
    "user.clear()"
   ]
  }
 ],
 "metadata": {
  "kernelspec": {
   "display_name": "Python 3 (ipykernel)",
   "language": "python",
   "name": "python3"
  },
  "language_info": {
   "codemirror_mode": {
    "name": "ipython",
    "version": 3
   },
   "file_extension": ".py",
   "mimetype": "text/x-python",
   "name": "python",
   "nbconvert_exporter": "python",
   "pygments_lexer": "ipython3",
   "version": "3.10.5"
  }
 },
 "nbformat": 4,
 "nbformat_minor": 5
}
